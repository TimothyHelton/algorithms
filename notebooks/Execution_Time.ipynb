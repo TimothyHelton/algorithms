{
 "cells": [
  {
   "cell_type": "markdown",
   "metadata": {},
   "source": [
    "# Execution Time\n",
    "---\n",
    "Timothy Helton\n",
    "\n",
    "2017-06-06\n",
    "\n",
    "---\n",
    "I have been fortunate enough to attend two different training courses put on by [Enthought Scientific Computing Solutions](https://www.enthought.com/).\n",
    "The [instructors](https://www.enthought.com/services/training/instructors/) were Mike McKerns and Alex Chabot-Leclerc who highly knowledgeable professionals.\n",
    "The most recent class was [pandas Mastery Workshop](https://www.enthought.com/services/training/pandas-mastery-workshop/), which I would highly recommend.\n",
    "During the course, Alex made comments about performance numerous times, so I created this notebook to display some surprising methods to speed up [pandas](http://pandas.pydata.org/).\n",
    "\n",
    "---\n",
    "<br>\n",
    "<font color=\"red\">\n",
    "NOTE: The timeit.autorange method was introduced in Python 3.6 and is used to automatically detemine how many times to call timeit.\n",
    "</font>"
   ]
  },
  {
   "cell_type": "markdown",
   "metadata": {},
   "source": [
    "---\n",
    "### Imports"
   ]
  },
  {
   "cell_type": "code",
   "execution_count": null,
   "metadata": {},
   "outputs": [],
   "source": [
    "from collections import namedtuple, OrderedDict\n",
    "import io\n",
    "import sys\n",
    "import timeit\n",
    "\n",
    "import matplotlib.pyplot as plt\n",
    "from matplotlib.ticker import FuncFormatter\n",
    "import numpy as np\n",
    "import pandas as pd\n",
    "import seaborn as sns\n",
    "\n",
    "from IPython.core.interactiveshell import InteractiveShell\n",
    "InteractiveShell.ast_node_interactivity = \"all\"\n",
    "%matplotlib inline"
   ]
  },
  {
   "cell_type": "markdown",
   "metadata": {},
   "source": [
    "---\n",
    "### Versions"
   ]
  },
  {
   "cell_type": "code",
   "execution_count": null,
   "metadata": {},
   "outputs": [],
   "source": [
    "print(f'Numpy Version: {np.__version__}')\n",
    "print(f'Pandas Version: {pd.__version__}')\n",
    "print(f'Python Version: {sys.version}')"
   ]
  },
  {
   "cell_type": "markdown",
   "metadata": {},
   "source": [
    "---\n",
    "### Framework"
   ]
  },
  {
   "cell_type": "code",
   "execution_count": null,
   "metadata": {},
   "outputs": [],
   "source": [
    "colors = sns.color_palette()"
   ]
  },
  {
   "cell_type": "code",
   "execution_count": null,
   "metadata": {},
   "outputs": [],
   "source": [
    "labels = [\n",
    "    'Pure NumPy',\n",
    "    'Pure pandas',\n",
    "    'pandas Wrapped by NumPy',\n",
    "    'pandas NumPy Calc'\n",
    "]"
   ]
  },
  {
   "cell_type": "code",
   "execution_count": null,
   "metadata": {},
   "outputs": [],
   "source": [
    "Call = namedtuple('Call', ('cmds', 'setup'))"
   ]
  },
  {
   "cell_type": "code",
   "execution_count": null,
   "metadata": {},
   "outputs": [],
   "source": [
    "def time_algorithm(cmds, setup=None):\n",
    "    \"\"\"Determine execution time.\n",
    "    \n",
    "    :param str cmds: commands to be timed\n",
    "    :param str setup: setup commands\n",
    "    \"\"\"\n",
    "    t = timeit.Timer(cmds, setup=setup)\n",
    "    n, time = t.autorange()\n",
    "    return time / n"
   ]
  },
  {
   "cell_type": "code",
   "execution_count": null,
   "metadata": {},
   "outputs": [],
   "source": [
    "def format_times(time_data):\n",
    "    \"\"\"Combine original times and normalized times.\n",
    "    \n",
    "    :param dict time_data: algorithm cycle times\n",
    "    \"\"\"\n",
    "    measured = pd.Series(algorithms,\n",
    "                         name='measured_times')\n",
    "    normalized = pd.Series(measured / measured.min(),\n",
    "                           name='normalized_times')\n",
    "    return pd.DataFrame([measured, normalized])"
   ]
  },
  {
   "cell_type": "code",
   "execution_count": null,
   "metadata": {},
   "outputs": [],
   "source": [
    "def plot_results(results, title, save=False):\n",
    "    \"\"\"Plot execution times.\n",
    "    \n",
    "    :param DataFrame results: data to be plotted\n",
    "    :param str title: title of plot\n",
    "    :param bool save: if True the plot will be saved to disk\n",
    "    \"\"\"\n",
    "    results = results.T\n",
    "    \n",
    "    milli_formatter = FuncFormatter(\n",
    "        lambda x, position: f'{x * 1e3:.3f} ms'\n",
    "    )\n",
    "\n",
    "    label_size = 14\n",
    "    sup_title_size = 24\n",
    "    title_size = 18\n",
    "    \n",
    "    fig = plt.figure('Overview Bor Plot', figsize=(10, 10),\n",
    "                     facecolor='white', edgecolor='black')\n",
    "    rows, cols = (2, 2)\n",
    "    ax0 = plt.subplot2grid((rows, cols), (0, 0))\n",
    "    ax1 = plt.subplot2grid((rows, cols), (0, 1))\n",
    "    ax2 = plt.subplot2grid((rows, cols), (1, 0), colspan=2)\n",
    "        \n",
    "    # bar plot\n",
    "    (results.measured_times\n",
    "         .plot(kind='bar', alpha=0.5, edgecolor='black', ax=ax0))\n",
    "\n",
    "    ax0.set_title('Measured Times', fontsize=title_size)\n",
    "    ax0.set_ylabel('Time (s)', fontsize=label_size)\n",
    "    ax0.yaxis.set_major_formatter(milli_formatter)\n",
    "    \n",
    "    # normalizd bar plot\n",
    "    (results.normalized_times\n",
    "         .plot(kind='bar', alpha=0.5, color=colors[1],\n",
    "               edgecolor='black', ax=ax1))\n",
    "\n",
    "    for p in ax1.patches:\n",
    "        ax1.annotate(\n",
    "            f'{p.get_height():.2f}',\n",
    "            (p.get_x() + p.get_width() / 2, p.get_height()),\n",
    "            ha='center',\n",
    "            textcoords='offset points',\n",
    "            va='center',\n",
    "            xytext=(0, 5), \n",
    "        )\n",
    "    \n",
    "    ax1.set_title('Normalized Times', fontsize=title_size)\n",
    "\n",
    "    for ax in (ax0, ax1):\n",
    "        ax.set_xlabel('Algorithms', fontsize=label_size)\n",
    "        ax.set_xticklabels(ax.xaxis.get_majorticklabels(),\n",
    "                           rotation=75)\n",
    "    \n",
    "    # pie plot\n",
    "    (results.normalized_times\n",
    "        .plot(kind='pie',\n",
    "              explode=[0.05] * results.shape[0], labels=None,\n",
    "              legend=None, shadow=True, ax=ax2))\n",
    "    \n",
    "    ax2.set_aspect('equal')\n",
    "    ax2.set_ylabel('')\n",
    "    ax2.legend(bbox_to_anchor=(1.3, 0.5),\n",
    "               labels=results.normalized_times.index,\n",
    "               loc='center')\n",
    "\n",
    "    \n",
    "    \n",
    "    plt.tight_layout()\n",
    "    plt.suptitle(title, fontsize=sup_title_size, y=1.05)\n",
    "\n",
    "    if save:\n",
    "        plt.savefig(f'{title}.png', bbox_inches='tight',\n",
    "                    bbox_extra_artists=[sup_title_size])\n",
    "    else:\n",
    "        plt.show()"
   ]
  },
  {
   "cell_type": "markdown",
   "metadata": {},
   "source": [
    "---\n",
    "### Overhead\n",
    "\n",
    "- The following Sunburst images for initializing different data structures were created using [Snakeviz](https://jiffyclub.github.io/snakeviz/)."
   ]
  },
  {
   "cell_type": "markdown",
   "metadata": {},
   "source": [
    "<table>\n",
    "    <tr>\n",
    "        <td scope=\"row\">\n",
    "            <h5 style=\"text-align: left\">Numpy Array</h5>\n",
    "            <img src=\"execution_time_img/numpy_array_profile.png\" style=\"height: 200px\"/>\n",
    "        </td>\n",
    "        <td scope=\"row\">\n",
    "            <h5 style=\"text-align: left\">Pandas Series</h5>\n",
    "            <img src=\"execution_time_img/pandas_series_profile.png\" style=\"height: 200px\"/>\n",
    "        </td>\n",
    "        <td scope=\"row\">\n",
    "            <h5 style=\"text-align: left\">Pandas DataFrame</h5>\n",
    "            <img src=\"execution_time_img/pandas_df_profile.png\" style=\"width: 200px\"/>\n",
    "        </td>\n",
    "    </tr>\n",
    "</table>\n"
   ]
  },
  {
   "cell_type": "markdown",
   "metadata": {},
   "source": [
    "---\n",
    "### pandas Series Numerical Operations\n",
    "\n",
    "- Numerical methods for pandas are located down the stack resulting in a time delay.\n",
    "- Converting to a NumPy array, performing the calculation and then back to a DataFrame increases speed."
   ]
  },
  {
   "cell_type": "code",
   "execution_count": null,
   "metadata": {},
   "outputs": [],
   "source": [
    "setup_numpy = ('import numpy as np;'\n",
    "               'arr = np.arange(1e6);')\n",
    "setup_pandas = (setup_numpy\n",
    "                + ('import pandas as pd;'\n",
    "                   's = pd.Series(arr);'))"
   ]
  },
  {
   "cell_type": "markdown",
   "metadata": {},
   "source": [
    "#### Addition"
   ]
  },
  {
   "cell_type": "code",
   "execution_count": null,
   "metadata": {},
   "outputs": [],
   "source": [
    "calls = (\n",
    "    Call('arr.sum()', setup_numpy),\n",
    "    Call('s.sum()', setup_pandas),\n",
    "    Call('np.sum(s)', setup_pandas),\n",
    "    Call('pd.Series(s.values.sum())', setup_pandas),\n",
    ")\n",
    "\n",
    "algorithms = OrderedDict(\n",
    "    {x: time_algorithm(y.cmds, y.setup)\n",
    "     for x, y in zip(labels, calls)}\n",
    ")\n",
    "addition = format_times(algorithms)"
   ]
  },
  {
   "cell_type": "code",
   "execution_count": null,
   "metadata": {},
   "outputs": [],
   "source": [
    "plot_results(addition, 'Series Addition')"
   ]
  },
  {
   "cell_type": "markdown",
   "metadata": {},
   "source": [
    "#### Multiplication"
   ]
  },
  {
   "cell_type": "code",
   "execution_count": null,
   "metadata": {},
   "outputs": [],
   "source": [
    "calls = (\n",
    "    Call('arr.prod()', setup_numpy),\n",
    "    Call('s.prod()', setup_pandas),\n",
    "    Call('np.prod(s)', setup_pandas),\n",
    "    Call('pd.Series(s.values.prod())', setup_pandas),\n",
    ")\n",
    "algorithms = OrderedDict(\n",
    "    {x: time_algorithm(y.cmds, y.setup)\n",
    "     for x, y in zip(labels, calls)}\n",
    ")\n",
    "multiplication = format_times(algorithms)"
   ]
  },
  {
   "cell_type": "code",
   "execution_count": null,
   "metadata": {},
   "outputs": [],
   "source": [
    "plot_results(multiplication, 'Series Multiplication')"
   ]
  },
  {
   "cell_type": "markdown",
   "metadata": {},
   "source": [
    "---\n",
    "\n",
    "### pandas DataFrames Numerical Operations"
   ]
  },
  {
   "cell_type": "code",
   "execution_count": null,
   "metadata": {},
   "outputs": [],
   "source": [
    "setup_numpy = ('import numpy as np;'\n",
    "               'arr = np.arange(1e6).reshape(1000, 1000);')\n",
    "setup_pandas = (setup_numpy\n",
    "                + ('import pandas as pd;'\n",
    "                   'df = pd.DataFrame(arr);'))"
   ]
  },
  {
   "cell_type": "markdown",
   "metadata": {},
   "source": [
    "#### Addition Down Columns"
   ]
  },
  {
   "cell_type": "code",
   "execution_count": null,
   "metadata": {},
   "outputs": [],
   "source": [
    "calls = (\n",
    "    Call('arr.sum()', setup_numpy),\n",
    "    Call('df.sum()', setup_pandas),\n",
    "    Call('np.sum(df)', setup_pandas),\n",
    "    Call('pd.Series(df.values.sum())', setup_pandas),\n",
    ")\n",
    "algorithms = OrderedDict(\n",
    "    {x: time_algorithm(y.cmds, y.setup)\n",
    "     for x, y in zip(labels, calls)}\n",
    ")\n",
    "apply_addition = format_times(algorithms)"
   ]
  },
  {
   "cell_type": "code",
   "execution_count": null,
   "metadata": {},
   "outputs": [],
   "source": [
    "plot_results(apply_addition, 'DataFrame Addition Down Columns')"
   ]
  },
  {
   "cell_type": "markdown",
   "metadata": {},
   "source": [
    "#### Multiplication Down Columns"
   ]
  },
  {
   "cell_type": "code",
   "execution_count": null,
   "metadata": {},
   "outputs": [],
   "source": [
    "calls = (\n",
    "    Call('arr.prod()', setup_numpy),\n",
    "    Call('df.prod()', setup_pandas),\n",
    "    Call('np.prod(df)', setup_pandas),\n",
    "    Call('pd.Series(df.values.prod())', setup_pandas),\n",
    ")\n",
    "algorithms = OrderedDict(\n",
    "    {x: time_algorithm(y.cmds, y.setup)\n",
    "     for x, y in zip(labels, calls)}\n",
    ")\n",
    "apply_prod = format_times(algorithms)"
   ]
  },
  {
   "cell_type": "code",
   "execution_count": null,
   "metadata": {},
   "outputs": [],
   "source": [
    "plot_results(apply_prod, 'DataFrame Multiplication Down Columns')"
   ]
  },
  {
   "cell_type": "markdown",
   "metadata": {},
   "source": [
    "#### Addition Across Columns"
   ]
  },
  {
   "cell_type": "code",
   "execution_count": null,
   "metadata": {},
   "outputs": [],
   "source": [
    "calls = (\n",
    "    Call('arr.sum(axis=1)', setup_numpy),\n",
    "    Call('df.sum(axis=1)', setup_pandas),\n",
    "    Call('np.sum(df, axis=1)', setup_pandas),\n",
    "    Call('pd.Series(df.values.sum(axis=1))', setup_pandas),\n",
    ")\n",
    "algorithms = OrderedDict(\n",
    "    {x: time_algorithm(y.cmds, y.setup)\n",
    "     for x, y in zip(labels, calls)}\n",
    ")\n",
    "apply_across_add = format_times(algorithms)"
   ]
  },
  {
   "cell_type": "code",
   "execution_count": null,
   "metadata": {},
   "outputs": [],
   "source": [
    "plot_results(apply_across_add, 'DataFrame Addition Across Columns')"
   ]
  },
  {
   "cell_type": "markdown",
   "metadata": {},
   "source": [
    "#### Multiplication Across Columns"
   ]
  },
  {
   "cell_type": "code",
   "execution_count": null,
   "metadata": {},
   "outputs": [],
   "source": [
    "calls = (\n",
    "    Call('arr.prod(axis=1)', setup_numpy),\n",
    "    Call('df.prod(axis=1)', setup_pandas),\n",
    "    Call('np.prod(df, axis=1)', setup_pandas),\n",
    "    Call('pd.Series(df.values.prod(axis=1))', setup_pandas),\n",
    ")\n",
    "algorithms = OrderedDict(\n",
    "    {x: time_algorithm(y.cmds, y.setup)\n",
    "     for x, y in zip(labels, calls)}\n",
    ")\n",
    "apply_across_prod = format_times(algorithms)"
   ]
  },
  {
   "cell_type": "code",
   "execution_count": null,
   "metadata": {},
   "outputs": [],
   "source": [
    "plot_results(apply_across_prod, 'DataFrame Multiplication Across Columns')"
   ]
  },
  {
   "cell_type": "markdown",
   "metadata": {},
   "source": [
    "---\n",
    "### Apply, Map, Applymap\n",
    "\n",
    "- These pandas functions use nested for loop in Python.\n",
    "- The example problem will be addition again, but forcing pandas to perform this operation using the agragate functions."
   ]
  },
  {
   "cell_type": "markdown",
   "metadata": {},
   "source": [
    "##### Add One to Each Element"
   ]
  },
  {
   "cell_type": "code",
   "execution_count": null,
   "metadata": {},
   "outputs": [],
   "source": [
    "setup_numpy = ('import numpy as np;'\n",
    "               'arr = np.arange(1e6).reshape(1000, 1000);'\n",
    "               'ones = np.ones((1000, 1000));')\n",
    "setup_pandas = (setup_numpy\n",
    "                + ('import pandas as pd;'\n",
    "                   'df = pd.DataFrame(arr)'))\n",
    "applymap_labels = labels\n",
    "applymap_labels.remove('pandas Wrapped by NumPy')"
   ]
  },
  {
   "cell_type": "code",
   "execution_count": null,
   "metadata": {},
   "outputs": [],
   "source": [
    "calls = (\n",
    "    Call('arr + 1', setup_numpy),\n",
    "    Call('df.applymap(lambda x: x + 1)', setup_pandas),\n",
    "    Call('pd.DataFrame(df.values + 1)', setup_pandas),\n",
    ")\n",
    "algorithms = OrderedDict(\n",
    "    {x: time_algorithm(y.cmds, y.setup)\n",
    "     for x, y in zip(applymap_labels, calls)}\n",
    ")\n",
    "applymap_addition = format_times(algorithms)"
   ]
  },
  {
   "cell_type": "code",
   "execution_count": null,
   "metadata": {},
   "outputs": [],
   "source": [
    "plot_results(applymap_addition, 'DataFrame Element-Wise Addition')"
   ]
  },
  {
   "cell_type": "markdown",
   "metadata": {},
   "source": [
    "---\n",
    "### Dates\n",
    "\n",
    "- pandas is optimized to read ISO 8601 date formats.\n",
    "    - YYYY-MM-DD HH:MM:SS"
   ]
  },
  {
   "cell_type": "code",
   "execution_count": null,
   "metadata": {},
   "outputs": [],
   "source": [
    "setup_pandas = 'import pandas as pd;'"
   ]
  },
  {
   "cell_type": "code",
   "execution_count": null,
   "metadata": {},
   "outputs": [],
   "source": [
    "calls = (\n",
    "    Call('pd.to_datetime(\"2017-05-28\");',\n",
    "         setup_pandas),\n",
    "    Call('pd.to_datetime(\"5/28/2017\");',\n",
    "         setup_pandas),\n",
    ")\n",
    "algorithms = OrderedDict(\n",
    "    {x: time_algorithm(y.cmds, y.setup)\n",
    "     for x, y in zip(('YYYY-MM-DD', 'month / day / year'), calls)}\n",
    ")\n",
    "date_formats = format_times(algorithms)"
   ]
  },
  {
   "cell_type": "code",
   "execution_count": null,
   "metadata": {},
   "outputs": [],
   "source": [
    "plot_results(date_formats, 'Date Format')"
   ]
  }
 ],
 "metadata": {
  "kernelspec": {
   "display_name": "Python 3",
   "language": "python",
   "name": "python3"
  },
  "language_info": {
   "codemirror_mode": {
    "name": "ipython",
    "version": 3
   },
   "file_extension": ".py",
   "mimetype": "text/x-python",
   "name": "python",
   "nbconvert_exporter": "python",
   "pygments_lexer": "ipython3",
   "version": "3.6.1"
  }
 },
 "nbformat": 4,
 "nbformat_minor": 2
}
